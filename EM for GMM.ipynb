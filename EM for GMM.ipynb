{
 "cells": [
  {
   "cell_type": "markdown",
   "metadata": {},
   "source": [
    "# EM for mixture of Gaussian"
   ]
  },
  {
   "cell_type": "markdown",
   "metadata": {},
   "source": [
    "Author: Smooth  \n",
    "Date: 2019.03.21"
   ]
  },
  {
   "cell_type": "markdown",
   "metadata": {},
   "source": [
    "## The Algorithm -- EM for GMM\n",
    "![hello gmm](https://github.com/SmoothL/EM-for-LMM/blob/master/al_gmm.png?raw=true)"
   ]
  },
  {
   "cell_type": "markdown",
   "metadata": {},
   "source": [
    "## The code"
   ]
  },
  {
   "cell_type": "code",
   "execution_count": 89,
   "metadata": {},
   "outputs": [],
   "source": [
    "__author__ = 'Smooth'\n",
    "\n",
    "import numpy as np\n",
    "from numpy.linalg import *\n",
    "import matplotlib.pyplot as plt"
   ]
  },
  {
   "cell_type": "code",
   "execution_count": 90,
   "metadata": {},
   "outputs": [],
   "source": [
    "class EM_GMM(object):\n",
    "    def __init__(self, object):\n",
    "        self.data = object.data\n",
    "    def print_res(self):\n",
    "        print(self.data)\n",
    "        return self.data\n",
    "    def EM(self):\n",
    "        p1 = 0.5\n",
    "        p2 = 0.5\n",
    "        mean1 = np.array([-2,2])      \n",
    "        conv1 = np.array([[1, 0.0],[0.0, 1]])\n",
    "        mean2 = np.array([2,2])             \n",
    "        conv2 = np.array([[1, 0.0], [0.0, 1]])\n",
    "        for i in range(100):\n",
    "            # E-step\n",
    "            pzx1 = p1 * multivariate_normal.pdf(self.data,mean1, conv1)\n",
    "            pzx2 = p2 * multivariate_normal.pdf(self.data,mean2, conv2)\n",
    "            px = pzx1 + pzx2\n",
    "            gamma1 = (pzx1 / px).reshape(1,n)\n",
    "            gamma2 = (pzx2 / px).reshape(1,n)\n",
    "            \n",
    "            # M-step\n",
    "            sum1 = np.sum(gamma1)\n",
    "            sum2 = np.sum(gamma2)\n",
    "            p1 = sum1 / n\n",
    "            p2 = sum2 / n\n",
    "            mean1 = np.ravel(np.dot(gamma1, self.data) / sum1)\n",
    "            mean2 = np.ravel(np.dot(gamma2, self.data) / sum2)\n",
    "            conv1 = np.dot(gamma1*(self.data-mean1).T,self.data-mean1)/sum1\n",
    "            conv2 = np.dot(gamma2*(self.data-mean2).T,self.data-mean2)/sum2\n",
    "            \n",
    "        return p1,p2,mean1,mean2,conv1,conv2\n"
   ]
  },
  {
   "cell_type": "code",
   "execution_count": 91,
   "metadata": {},
   "outputs": [
    {
     "data": {
      "image/png": "[encoded data removed]",
      "text/plain": [
       "<Figure size 432x288 with 1 Axes>"
      ]
     },
     "metadata": {
      "needs_background": "light"
     },
     "output_type": "display_data"
    }
   ],
   "source": [
    "from scipy.stats import multivariate_normal\n",
    "n = 1200\n",
    "mean1 = np.array([4,1])              \n",
    "conv1 = np.array([[1.5, -1.0],[-1.0, 1.5]])\n",
    "mean2 = np.array([-2,3])             \n",
    "conv2 = np.array([[3, 2.0], [2.0, 3]])\n",
    "x1, y1 = np.random.multivariate_normal(mean1, conv1, size=400).T\n",
    "x2, y2 = np.random.multivariate_normal(mean2, conv2, size=800).T\n",
    "x = np.concatenate([x1, x2])\n",
    "y =  np.concatenate([y1, y2])\n",
    "data = np.concatenate([x.reshape(n,1),y.reshape(n,1)],axis = 1)\n",
    "# print(axis[:])\n",
    "\n",
    "\n",
    "plt.plot(data[:,0],data[:,1], 'bo')\n",
    "plt.show()\n",
    "# plt.plot(x2, y2, 'bo')\n",
    "# plt.plot(x,y, 'bo')\n",
    "# plt.show()\n"
   ]
  },
  {
   "cell_type": "code",
   "execution_count": 92,
   "metadata": {
    "scrolled": true
   },
   "outputs": [
    {
     "name": "stdout",
     "output_type": "stream",
     "text": [
      "p1: 0.6656383711512309 p2: 0.33436162884876897 \n",
      "\n",
      "mean1: [-1.86665746  3.1139171 ] mean2: [4.00450943 0.96494967] \n",
      "\n",
      "conv1: [[3.02719722 1.96768508]\n",
      " [1.96768508 2.97436968]] \n",
      "\n",
      "conv2: [[ 1.67900632 -1.16356659]\n",
      " [-1.16356659  1.6031449 ]] \n",
      "\n"
     ]
    }
   ],
   "source": [
    "if __name__ == '__main__':\n",
    "    class para(object):\n",
    "        data = data\n",
    "    [p1,p2,mean1,mean2,conv1,conv2] = EM_GMM(para).EM()\n",
    "    print('p1:',p1,'p2:',p2,'\\n')\n",
    "    print('mean1:',mean1,'mean2:',mean2,'\\n')\n",
    "    print('conv1:',conv1,'\\n')\n",
    "    print('conv2:',conv2,'\\n')\n"
   ]
  },
  {
   "cell_type": "code",
   "execution_count": null,
   "metadata": {},
   "outputs": [],
   "source": []
  }
 ],
 "metadata": {
  "kernelspec": {
   "display_name": "Python 3",
   "language": "python",
   "name": "python3"
  },
  "language_info": {
   "codemirror_mode": {
    "name": "ipython",
    "version": 3
   },
   "file_extension": ".py",
   "mimetype": "text/x-python",
   "name": "python",
   "nbconvert_exporter": "python",
   "pygments_lexer": "ipython3",
   "version": "3.7.1"
  }
 },
 "nbformat": 4,
 "nbformat_minor": 2
}
