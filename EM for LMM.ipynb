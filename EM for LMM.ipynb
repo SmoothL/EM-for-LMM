{
 "cells": [
  {
   "cell_type": "markdown",
   "metadata": {},
   "source": [
    "# EM For Linear Mixed Model#"
   ]
  },
  {
   "cell_type": "markdown",
   "metadata": {},
   "source": [
    "Author: Smooth  \n",
    "Date: 2018.10.30"
   ]
  },
  {
   "cell_type": "markdown",
   "metadata": {},
   "source": [
    "## The model\n",
    "The basic model is $y=Xu+e$  \n",
    "Where $u\\thicksim N(0,\\sigma_u^2I_{m\\times m}), e\\thicksim N(0,\\sigma_e^2I_{n\\times n})$"
   ]
  },
  {
   "cell_type": "markdown",
   "metadata": {},
   "source": [
    "### Log Likelihood\n",
    "\n",
    "\\begin{equation}\n",
    "\\begin{aligned}\n",
    "L(y,u|\\theta)&=\\prod_{i=1}^np(y_i,u)\\\\\n",
    "&=\\prod_{i=1}^np(y_i|u)p(u)\\\\\n",
    "&=\\prod_{i=1}^np(y_i|u)\\prod_{j=1}^mp(u_j)\\\\\n",
    "&=\\prod_{i=1}^n\\frac{1}{\\sqrt{2\\pi}\\sigma_e}exp(-\\frac{(y_i-x_{i.}u)^2}{\\sigma_{e}^{2}})\\prod_{j=1}^m\\frac{1}{\\sqrt{2\\pi}\\sigma_u}exp(-\\frac{u_j^2}{\\sigma_{u}^{2}})\\\\\n",
    "&=(\\sqrt{2\\pi}\\sigma_e)^{-n}exp(-\\frac{1}{\\sigma_{e}^{2}}\\sum_{i=1}^n{(y_i-x_{i.}u)^2})(\\sqrt{2\\pi}\\sigma_u)^{-p}exp(-\\frac{1}{\\sigma_{u}^{2}}\\sum_{j=1}^m{u_j^2})\\\\\n",
    "\\\\\n",
    "l(y,u|\\theta)&=logL(y,u|\\theta)=-\\frac{n}{2}log\\sigma_e^2-\\frac{m}{2}log\\sigma_u^2-\\frac{1}{2\\sigma_e^2}r^Tr-\\frac{1}{2\\sigma_u^2}u^Tu\n",
    "\\end{aligned}\n",
    "\\end{equation}"
   ]
  },
  {
   "cell_type": "markdown",
   "metadata": {},
   "source": [
    "### EM Algorithm\n",
    "$\\circ$ The calculation for M-step  ($\\sigma_e^2,\\sigma_u^2$)\n",
    "\\begin{equation}\n",
    "\\begin{aligned}\n",
    "E(l(y,u)|y,\\theta)&=E(-\\frac{n}{2}log\\sigma_e^2-\\frac{m}{2}log\\sigma_u^2-\\frac{1}{2\\sigma_e^2}r^Tr-\\frac{1}\n",
    "{2\\sigma_u^2}u^Tu|y,\\theta)\\\\\n",
    "\\\\\n",
    "\\frac{\\partial E(l(y,u)|y,\\theta)}{\\partial \\sigma_e^2}&=E(-\\frac{n}{2\\sigma_e^2}+\\frac{r^Tr}{2\\sigma_e^4}|y,\\theta)\\\\\n",
    "\\\\\n",
    "\\frac{\\partial E(l(y,u)|y,\\theta))}{\\partial \\sigma_u^2}&=E(-\\frac{m}{2\\sigma_u^2}+\\frac{u^Tu}{2\\sigma_u^4}|y,\\theta)\\\\\n",
    "\\\\\n",
    "\\sigma_e^2&=\\frac{E(r^Tr|y,\\theta)}{n}\\\\\n",
    "\\\\\n",
    "\\sigma_u^2&=\\frac{E(u^Tu|y,\\theta)}{m}\n",
    "\\end{aligned}\n",
    "\\end{equation}\n"
   ]
  },
  {
   "cell_type": "markdown",
   "metadata": {},
   "source": [
    "$\\circ$ The calculation for E-step  ($E(u^Tu|y,\\theta),E(r^Tr|y,\\theta)$)\n",
    "\\begin{equation}\n",
    "\\begin{aligned}\n",
    "u&\\thicksim N(0,\\sigma_u^2I),e\\thicksim N(0,\\sigma_e^2I)\\\\\n",
    "y|u&\\thicksim N(Xu,\\sigma_e^2I)\\\\\n",
    "y|e&\\thicksim N(0, X\\sigma_u^2IX^T)\\\\\n",
    "\\end{aligned}\n",
    "\\end{equation}  \n",
    "\n",
    "$\\bullet$ The calculation for $E(u^Tu|y,\\theta)$\n",
    "\\begin{equation}\n",
    "\\begin{aligned}\n",
    "p(u)&=\\mathcal N(u|e,\\sigma_u^2I)\\\\\n",
    "p(y|u)&=\\mathcal N(y|Xu,\\sigma_e^2I)\\\\\n",
    "\\\\\n",
    "iU&=(\\sigma_u^2I)^{-1}\\\\\n",
    "iV&=(\\sigma_e^2I)^{-1}\\\\\n",
    "A&=(iU+X^TiVX)^{-1}\\\\\n",
    "\\\\\n",
    "p(y)&=\\mathcal N(y|0,\\sigma_e^2I+X\\sigma_u^2IX^T)\\\\\n",
    "p(u|y)&=\\mathcal N(u|A(X^TiVy),A)\\\\\n",
    "\\\\\n",
    "E(u^Tu|y,\\theta)&=E(u|y,\\theta)^TE(u|y,\\theta)+Var(u|y,\\theta)=(X^TiVy)^TA^TA(X^TiVy)+trace(A)\n",
    "\\end{aligned}\n",
    "\\end{equation}\n",
    "\n",
    "$\\bullet$ The calculation for $E(r^Tr|y,\\theta)$\n",
    "\\begin{equation}\n",
    "\\begin{aligned}\n",
    "&E(r^Tr|y,\\theta)\\\\\n",
    "=&E((y-Xu)^T(y-Xu)|y,\\theta)\\\\\n",
    "=&E(y^Ty-2y^TXu+u^TX^TXu|y,\\theta)\\\\\n",
    "=&y^Ty-2y^TXE(u|y,\\theta)+E(u^TX^TXu|y,\\theta)\\\\\n",
    "=&y^Ty-2y^TXA(X^TiVy)+E(trace(Xuu^TX^T)|y,\\theta)\\\\\n",
    "=&y^Ty-2y^TXA(X^TiVy)+E(trace(X^TXuu^T)|y,\\theta)\\\\\n",
    "=&y^Ty-2y^TXA(X^TiVy)+trace(X^TXE(uu^T|y,\\theta))\\\\\n",
    "=&y^Ty-2y^TXA(X^TiVy)+trace(X^TX(X^TiVy)^TA^TA(X^TiVy)+trace(A)))\n",
    "\\end{aligned}\n",
    "\\end{equation}"
   ]
  },
  {
   "cell_type": "markdown",
   "metadata": {},
   "source": [
    "### The Algorithm -- EM for LMM\n",
    "![hello em](https://github.com/SmoothL/EM-for-LMM/blob/master/Algorithm.png?raw=true)"
   ]
  },
  {
   "cell_type": "markdown",
   "metadata": {},
   "source": [
    "## The code"
   ]
  },
  {
   "cell_type": "code",
   "execution_count": 7,
   "metadata": {},
   "outputs": [],
   "source": [
    "__author__ = 'Smooth'\n",
    "\n",
    "import numpy as np\n",
    "from numpy.linalg import *\n",
    "import matplotlib.pyplot as plt"
   ]
  },
  {
   "cell_type": "code",
   "execution_count": 8,
   "metadata": {},
   "outputs": [],
   "source": [
    "def em_lmm(obj):\n",
    "    X = obj['X']\n",
    "    eps = obj['eps']\n",
    "\n",
    "    logl = -np.inf\n",
    "    [n, m] = X.shape\n",
    "    y = obj['y'].reshape([n, 1])\n",
    "    u = np.zeros([m, 1])\n",
    "    Su = obj['Su']\n",
    "    Se = obj['Se']\n",
    "    \n",
    "    def loglikehood(y,X,u,Se,Su,n,m):\n",
    "        r = y - np.dot(X,u)\n",
    "        loglikehood = -0.5*n*np.log(2*Se)-0.5*m*np.log(Su)-0.5*np.dot(r.T,r)/Se-0.5*np.dot(u.T,u)/Su\n",
    "        return loglikehood[0,0]\n",
    "    \n",
    "    plogl = loglikehood(y,X,u,Se,Su,n,m)\n",
    "    print(plogl)\n",
    "    plogll = []\n",
    "    plogll.append(plogl)\n",
    "    \n",
    "    \n",
    "    while (abs(plogl-logl)) > eps:\n",
    "        logl = plogl\n",
    "        #E-Step\n",
    "        iU = inv(Su*np.identity(m))\n",
    "        iV = inv(Se*np.identity(n))\n",
    "        A = inv(iU+np.dot(np.dot(X.T,iV),X))\n",
    "        mu_u = np.dot(A,np.dot(X.T,np.dot(iV,y)))\n",
    "        uTu = np.dot(mu_u.T,mu_u)+np.trace(A)\n",
    "        \n",
    "        rr = y-np.dot(X,mu_u)\n",
    "        rTr = np.dot(rr.T,rr)+np.trace(np.dot(np.dot(X.T,X),A))\n",
    "        \n",
    "#         Z = X\n",
    "#         ZZt = np.dot(Z,Z.T)\n",
    "#         V = ZZt * Su + Se\n",
    "#         iV = inv(V)\n",
    "#         uTu = Su * Su * (np.dot(np.dot(np.dot(np.dot(y.T, iV), ZZt), iV), y)) + np.trace(\n",
    "#                 Su - Su * Su * (np.dot(np.dot(Z.T, iV), Z)))\n",
    "#         eTe = Se * Se * (np.dot(np.dot(np.dot(y.T, iV), iV), y)) + np.trace(Se - Se * Se * (iV))\n",
    "        \n",
    "        #M-Step\n",
    "        Su = uTu/m\n",
    "        Se = rTr/n\n",
    "        \n",
    "        plogl = loglikehood(y,X,u,Se,Su,n,m)\n",
    "        plogll.append(plogl)\n",
    "        \n",
    "    return plogll\n",
    "        "
   ]
  },
  {
   "cell_type": "code",
   "execution_count": 15,
   "metadata": {},
   "outputs": [
    {
     "name": "stdout",
     "output_type": "stream",
     "text": [
      "-10017158.012457445\n",
      "[-10017158.012457445, -2759.5510917327356, -2725.3076938427757, -2724.4891478991403, -2724.469170322696]\n"
     ]
    },
    {
     "data": {
      "image/png": "[encoded data removed]",
      "text/plain": [
       "<Figure size 432x288 with 1 Axes>"
      ]
     },
     "metadata": {},
     "output_type": "display_data"
    }
   ],
   "source": [
    "if __name__ == '__main__':\n",
    "    sampleNo = 200\n",
    "    mu = 1000\n",
    "    sigma = 10\n",
    "    y = sigma * np.random.randn(sampleNo ) + mu\n",
    "    \n",
    "    X = np.random.rand(sampleNo,5)\n",
    "    \n",
    "    object = {}\n",
    "    object['X'] = X\n",
    "    object['y'] = y\n",
    "    object['eps'] = 1e-1\n",
    "    object['Su'] = 10\n",
    "    object['Se'] = 10\n",
    "    \n",
    "    plogl = em_lmm(object)\n",
    "    print(plogl)\n",
    "    plt.figure()\n",
    "    plt.plot(plogl)\n",
    "    plt.xlabel(\"iteration\")\n",
    "    plt.ylabel(\"loglikihood\")\n",
    "    plt.show()"
   ]
  },
  {
   "cell_type": "code",
   "execution_count": 16,
   "metadata": {},
   "outputs": [
    {
     "data": {
      "image/png": "[encoded data removed]",
      "text/plain": [
       "<Figure size 432x288 with 1 Axes>"
      ]
     },
     "metadata": {},
     "output_type": "display_data"
    }
   ],
   "source": [
    "import seaborn as sns\n",
    "sns.set_style(\"whitegrid\")\n",
    "plt.figure()\n",
    "# sns.distplot(y, bins=20, kde=True,rug=True) \n",
    "# plt.xlabel(\"value\")\n",
    "# plt.ylabel(\"frequency\")\n",
    "# plt.show()\n",
    "# plt.figure()\n",
    "sns.swarmplot(x=y)\n",
    "plt.xlabel(\"value\")\n",
    "plt.show()"
   ]
  },
  {
   "cell_type": "code",
   "execution_count": null,
   "metadata": {},
   "outputs": [],
   "source": []
  }
 ],
 "metadata": {
  "kernelspec": {
   "display_name": "Python 3",
   "language": "python",
   "name": "python3"
  },
  "language_info": {
   "codemirror_mode": {
    "name": "ipython",
    "version": 3
   },
   "file_extension": ".py",
   "mimetype": "text/x-python",
   "name": "python",
   "nbconvert_exporter": "python",
   "pygments_lexer": "ipython3",
   "version": "3.7.1"
  }
 },
 "nbformat": 4,
 "nbformat_minor": 2
}
